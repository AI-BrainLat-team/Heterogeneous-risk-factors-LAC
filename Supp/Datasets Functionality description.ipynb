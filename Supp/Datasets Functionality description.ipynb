{
 "cells": [
  {
   "cell_type": "markdown",
   "metadata": {},
   "source": [
    "## Load Libraries"
   ]
  },
  {
   "cell_type": "code",
   "execution_count": null,
   "metadata": {},
   "outputs": [],
   "source": [
    "import pandas as pd\n",
    "import numpy as np\n",
    "import re\n",
    "import matplotlib.pylab as plt\n",
    "\n",
    "from matplotlib.patches import Patch\n",
    "from matplotlib.lines import Line2D\n",
    "\n",
    "import seaborn as sns\n"
   ]
  },
  {
   "cell_type": "code",
   "execution_count": null,
   "metadata": {},
   "outputs": [],
   "source": [
    "data_p = 'E:/BrainLat/SABE/Heterogeneous-risk-factors-non-stereotypical-LAC-main'"
   ]
  },
  {
   "cell_type": "code",
   "execution_count": null,
   "metadata": {},
   "outputs": [],
   "source": [
    "sabe_chile = pd.read_excel(data_p + '/Data/cross/SABE_chile.xlsx')\n",
    "sabe_chile = sabe_chile.iloc[:,1::]\n",
    "\n",
    "sabe_uruguay = pd.read_excel(data_p + '/Data/cross/SABE_uruguay.xlsx')\n",
    "sabe_uruguay = sabe_uruguay.iloc[:,1::]\n",
    "\n",
    "sabe_ecuador = pd.read_excel(data_p + '/Data/cross/SABE_ecuador.xlsx')\n",
    "sabe_ecuador = sabe_ecuador.iloc[:,1::]\n",
    "\n",
    "sabe_colombia = pd.read_excel(data_p + '/Data/cross/SABE_colombia.xlsx')\n",
    "sabe_colombia = sabe_colombia.iloc[:,1::]\n",
    "\n",
    "sabe_costarica = pd.read_excel(data_p + '/Data/cross/SABE_costarica.xlsx')\n",
    "sabe_costarica = sabe_costarica.iloc[:,1::]\n",
    "\n",
    "sabe_korea = pd.read_excel(data_p + '/Data/cross/SABE_korea.xlsx')\n",
    "sabe_korea = sabe_korea.iloc[:,1::]"
   ]
  },
  {
   "cell_type": "markdown",
   "metadata": {},
   "source": [
    "## Add colors for future use, remove non-common features, order all df vars in same order"
   ]
  },
  {
   "cell_type": "code",
   "execution_count": null,
   "metadata": {},
   "outputs": [],
   "source": [
    "X_chile_01 = sabe_chile.copy()\n",
    "X_uruguay_01 = sabe_uruguay.copy()\n",
    "X_ecuador_01 = sabe_ecuador.copy()\n",
    "X_colombia_01 = sabe_colombia.copy()\n",
    "X_costarica_01 = sabe_costarica.copy()\n",
    "X_korea_01 = sabe_korea.copy()\n",
    "\n",
    "\n",
    "X_cat = pd.read_csv(data_p + '/Data/cross/var_name_color_code_new.csv', encoding='latin-1', sep=\";\")"
   ]
  },
  {
   "cell_type": "code",
   "execution_count": null,
   "metadata": {},
   "outputs": [],
   "source": [
    "X_cat;"
   ]
  },
  {
   "cell_type": "code",
   "execution_count": null,
   "metadata": {},
   "outputs": [],
   "source": [
    "order_col = list(X_chile_01.columns)\n",
    "order_col.remove('FS_Adversidad_AgresionVerb_j28')\n",
    "order_col.remove('FS_Adversidad_AgresionFis_j27')\n",
    "order_col.remove('FM_CardioMetab_IMC_none')\n",
    "order_col.remove('FS_EstSocEcon_ElectricEquipment_none')\n",
    "order_col.remove('FM_CardioMetab_ACV_c09')\n",
    "\n",
    "X_chile_01     =  X_chile_01[order_col]\n",
    "X_uruguay_01   =  X_uruguay_01[order_col]\n",
    "X_ecuador_01   =  X_ecuador_01[order_col]\n",
    "X_colombia_01  =  X_colombia_01[order_col]\n",
    "\n",
    "\n",
    "X_chile_01.columns =  X_cat.newname\n",
    "X_uruguay_01.columns =  X_cat.newname\n",
    "X_ecuador_01.columns =  X_cat.newname\n",
    "X_colombia_01.columns =  X_cat.newname"
   ]
  },
  {
   "cell_type": "code",
   "execution_count": null,
   "metadata": {},
   "outputs": [],
   "source": [
    "print(X_chile_01.shape, '\\n', X_uruguay_01.shape, '\\n', X_ecuador_01.shape, '\\n', \n",
    "      X_colombia_01.shape)"
   ]
  },
  {
   "cell_type": "code",
   "execution_count": null,
   "metadata": {
    "scrolled": true
   },
   "outputs": [],
   "source": [
    "#Sanity check\n",
    "for i in range(len(order_col)):\n",
    "    print('', X_chile_01.columns[i], '\\n', X_uruguay_01.columns[i], '\\n', X_ecuador_01.columns[i], '\\n', \n",
    "          X_colombia_01.columns[i])\n",
    "    print('-------------------------------------------')"
   ]
  },
  {
   "cell_type": "code",
   "execution_count": null,
   "metadata": {},
   "outputs": [],
   "source": [
    "len(X_chile_01.columns)"
   ]
  },
  {
   "cell_type": "code",
   "execution_count": null,
   "metadata": {},
   "outputs": [],
   "source": [
    "parameter_dict = {}"
   ]
  },
  {
   "cell_type": "markdown",
   "metadata": {},
   "source": [
    "# Prepare data"
   ]
  },
  {
   "cell_type": "markdown",
   "metadata": {},
   "source": [
    "## Cross-sectional"
   ]
  },
  {
   "cell_type": "markdown",
   "metadata": {},
   "source": [
    "### Chile"
   ]
  },
  {
   "cell_type": "code",
   "execution_count": null,
   "metadata": {},
   "outputs": [],
   "source": [
    "X_chile_n_IMC_ACV = X_chile_01.drop(['MMSE' ], axis=1)\n",
    "X_chile_n_IMC_ACV.dropna(inplace=True)\n",
    "print(X_chile_n_IMC_ACV.shape)\n",
    "print(X_chile_n_IMC_ACV.shape, X_chile_01.shape, X_chile_01.shape[0] - X_chile_n_IMC_ACV.shape[0])"
   ]
  },
  {
   "cell_type": "markdown",
   "metadata": {},
   "source": [
    "### Uruguay"
   ]
  },
  {
   "cell_type": "code",
   "execution_count": null,
   "metadata": {},
   "outputs": [],
   "source": [
    "X_uruguay_n_IMC_ACV = X_uruguay_01.drop(['MMSE' ], axis=1)"
   ]
  },
  {
   "cell_type": "code",
   "execution_count": null,
   "metadata": {},
   "outputs": [],
   "source": [
    "X_uruguay_n_IMC_ACV.dropna(inplace=True)\n",
    "print(X_uruguay_n_IMC_ACV.shape, X_uruguay_01.shape, X_uruguay_01.shape[0] - X_uruguay_n_IMC_ACV.shape[0])"
   ]
  },
  {
   "cell_type": "markdown",
   "metadata": {},
   "source": [
    "### Ecuador"
   ]
  },
  {
   "cell_type": "code",
   "execution_count": null,
   "metadata": {},
   "outputs": [],
   "source": [
    "X_ecuador_n_IMC_ACV = X_ecuador_01.drop(['MMSE' ], axis=1)"
   ]
  },
  {
   "cell_type": "code",
   "execution_count": null,
   "metadata": {},
   "outputs": [],
   "source": [
    "X_ecuador_n_IMC_ACV.dropna(inplace=True)\n",
    "print(X_ecuador_n_IMC_ACV.shape, X_ecuador_01.shape, X_ecuador_01.shape[0] - X_ecuador_n_IMC_ACV.shape[0])"
   ]
  },
  {
   "cell_type": "markdown",
   "metadata": {},
   "source": [
    "### Colombia"
   ]
  },
  {
   "cell_type": "code",
   "execution_count": null,
   "metadata": {},
   "outputs": [],
   "source": [
    "X_colombia_n_IMC_ACV = X_colombia_01.drop(['MMSE' ], axis=1)"
   ]
  },
  {
   "cell_type": "code",
   "execution_count": null,
   "metadata": {},
   "outputs": [],
   "source": [
    "X_colombia_n_IMC_ACV.dropna(inplace=True)\n",
    "print(X_colombia_n_IMC_ACV.shape, X_colombia_01.shape, X_colombia_01.shape[0] - X_colombia_n_IMC_ACV.shape[0])"
   ]
  },
  {
   "cell_type": "markdown",
   "metadata": {},
   "source": [
    "### Description"
   ]
  },
  {
   "cell_type": "markdown",
   "metadata": {},
   "source": [
    "#### Chile"
   ]
  },
  {
   "cell_type": "code",
   "execution_count": null,
   "metadata": {},
   "outputs": [],
   "source": [
    "cols = ['Sex','Age', 'Education', 'Barthel']\n",
    "\n",
    "agg_dict = {}\n",
    "for i in cols:\n",
    "    if i == 'Sex':\n",
    "        agg_dict[i]=['count']\n",
    "    else:\n",
    "        agg_dict[i]=['mean', 'std']\n",
    "\n",
    "Chile_sex = X_chile_n_IMC_ACV[cols].groupby('Sex').agg(agg_dict)\n",
    "Chile_sex = np.round(Chile_sex, 2)"
   ]
  },
  {
   "cell_type": "code",
   "execution_count": null,
   "metadata": {},
   "outputs": [],
   "source": [
    "Chile_sex"
   ]
  },
  {
   "cell_type": "code",
   "execution_count": null,
   "metadata": {},
   "outputs": [],
   "source": [
    "Chile = pd.DataFrame(np.round(X_chile_01[cols[1:]].mean(),2), columns=['mean'])\n",
    "Chile['std'] = (np.round(X_chile_01[cols[1:]].std(),2))"
   ]
  },
  {
   "cell_type": "code",
   "execution_count": null,
   "metadata": {},
   "outputs": [],
   "source": [
    "Chile"
   ]
  },
  {
   "cell_type": "code",
   "execution_count": null,
   "metadata": {},
   "outputs": [],
   "source": [
    "#Chile_sex.to_excel('Results/data_description/chile_descrip_cognition_by_sex.xlsx')\n",
    "#Chile.to_excel('Results/data_description/chile_descrip_cognition_global.xlsx')"
   ]
  },
  {
   "cell_type": "code",
   "execution_count": null,
   "metadata": {},
   "outputs": [],
   "source": []
  },
  {
   "cell_type": "markdown",
   "metadata": {},
   "source": [
    "#### Uruguay"
   ]
  },
  {
   "cell_type": "code",
   "execution_count": null,
   "metadata": {},
   "outputs": [],
   "source": [
    "cols = ['Sex','Age', 'Education', 'Barthel']\n",
    "\n",
    "agg_dict = {}\n",
    "for i in cols:\n",
    "    if i == 'Sex':\n",
    "        agg_dict[i]=['count']\n",
    "    else:\n",
    "        agg_dict[i]=['mean', 'std']\n",
    "\n",
    "Uruguay_sex = X_uruguay_n_IMC_ACV[cols].groupby('Sex').agg(agg_dict)\n",
    "Uruguay_sex = np.round(Uruguay_sex, 2)"
   ]
  },
  {
   "cell_type": "code",
   "execution_count": null,
   "metadata": {},
   "outputs": [],
   "source": [
    "Uruguay_sex"
   ]
  },
  {
   "cell_type": "code",
   "execution_count": null,
   "metadata": {},
   "outputs": [],
   "source": [
    "Uruguay = pd.DataFrame(np.round(X_uruguay_01[cols[1:]].mean(),2), columns=['mean'])\n",
    "Uruguay['std'] = (np.round(X_uruguay_01[cols[1:]].std(),2))"
   ]
  },
  {
   "cell_type": "code",
   "execution_count": null,
   "metadata": {},
   "outputs": [],
   "source": [
    "Uruguay"
   ]
  },
  {
   "cell_type": "code",
   "execution_count": null,
   "metadata": {},
   "outputs": [],
   "source": [
    "#Uruguay_sex.to_excel('Results/data_description/uruguay_descrip_cognition_by_sex.xlsx')\n",
    "#Uruguay.to_excel('Results/data_description/uruguay_descrip_cognition_global.xlsx')"
   ]
  },
  {
   "cell_type": "markdown",
   "metadata": {},
   "source": [
    "#### HIC"
   ]
  },
  {
   "cell_type": "code",
   "execution_count": null,
   "metadata": {},
   "outputs": [],
   "source": [
    "hic = pd.concat([X_chile_n_IMC_ACV[cols], X_uruguay_n_IMC_ACV[cols]], axis=0)"
   ]
  },
  {
   "cell_type": "code",
   "execution_count": null,
   "metadata": {},
   "outputs": [],
   "source": [
    "hic_sex = hic.groupby('Sex').agg(agg_dict)\n",
    "hic_sex = np.round(hic_sex, 2)"
   ]
  },
  {
   "cell_type": "code",
   "execution_count": null,
   "metadata": {},
   "outputs": [],
   "source": [
    "hic_sex"
   ]
  },
  {
   "cell_type": "code",
   "execution_count": null,
   "metadata": {},
   "outputs": [],
   "source": [
    "hic_all = pd.DataFrame(np.round(hic[cols[1:]].mean(),2), columns=['mean'])\n",
    "hic_all['std'] = (np.round(hic[cols[1:]].std(),2))"
   ]
  },
  {
   "cell_type": "code",
   "execution_count": null,
   "metadata": {},
   "outputs": [],
   "source": [
    "hic_all"
   ]
  },
  {
   "cell_type": "code",
   "execution_count": null,
   "metadata": {},
   "outputs": [],
   "source": [
    "#hic_sex.to_excel('Results/data_description/hic_descrip_cognition_by_sex.xlsx')\n",
    "#hic_all.to_excel('Results/data_description/hic_descrip_cognition_global.xlsx')"
   ]
  },
  {
   "cell_type": "markdown",
   "metadata": {},
   "source": [
    "#### Colombia"
   ]
  },
  {
   "cell_type": "code",
   "execution_count": null,
   "metadata": {},
   "outputs": [],
   "source": [
    "cols = ['Sex','Age', 'Education', 'Barthel']\n",
    "\n",
    "agg_dict = {}\n",
    "for i in cols:\n",
    "    if i == 'Sex':\n",
    "        agg_dict[i]=['count']\n",
    "    else:\n",
    "        agg_dict[i]=['mean', 'std']\n",
    "\n",
    "Colombia_sex = X_colombia_n_IMC_ACV[cols].groupby('Sex').agg(agg_dict)\n",
    "Colombia_sex = np.round(Colombia_sex, 2)"
   ]
  },
  {
   "cell_type": "code",
   "execution_count": null,
   "metadata": {},
   "outputs": [],
   "source": [
    "Colombia_sex"
   ]
  },
  {
   "cell_type": "code",
   "execution_count": null,
   "metadata": {},
   "outputs": [],
   "source": [
    "Colombia = pd.DataFrame(np.round(X_colombia_01[cols[1:]].mean(),2), columns=['mean'])\n",
    "Colombia['std'] = (np.round(X_colombia_01[cols[1:]].std(),2))"
   ]
  },
  {
   "cell_type": "code",
   "execution_count": null,
   "metadata": {},
   "outputs": [],
   "source": [
    "Colombia"
   ]
  },
  {
   "cell_type": "code",
   "execution_count": null,
   "metadata": {},
   "outputs": [],
   "source": [
    "#Colombia_sex.to_excel('Results/data_description/colombia_descrip_cognition_by_sex.xlsx')\n",
    "#Colombia.to_excel('Results/data_description/colombia_descrip_cognition_global.xlsx')"
   ]
  },
  {
   "cell_type": "markdown",
   "metadata": {},
   "source": [
    "#### Ecuador"
   ]
  },
  {
   "cell_type": "code",
   "execution_count": null,
   "metadata": {},
   "outputs": [],
   "source": [
    "cols = ['Sex','Age', 'Education', 'Barthel']\n",
    "\n",
    "agg_dict = {}\n",
    "for i in cols:\n",
    "    if i == 'Sex':\n",
    "        agg_dict[i]=['count']\n",
    "    else:\n",
    "        agg_dict[i]=['mean', 'std']\n",
    "\n",
    "Ecuador_sex = X_ecuador_n_IMC_ACV[cols].groupby('Sex').agg(agg_dict)\n",
    "Ecuador_sex = np.round(Ecuador_sex, 2)"
   ]
  },
  {
   "cell_type": "code",
   "execution_count": null,
   "metadata": {},
   "outputs": [],
   "source": [
    "Ecuador_sex"
   ]
  },
  {
   "cell_type": "code",
   "execution_count": null,
   "metadata": {},
   "outputs": [],
   "source": [
    "Ecuador = pd.DataFrame(np.round(X_ecuador_01[cols[1:]].mean(),2), columns=['mean'])\n",
    "Ecuador['std'] = (np.round(X_ecuador_01[cols[1:]].std(),2))"
   ]
  },
  {
   "cell_type": "code",
   "execution_count": null,
   "metadata": {},
   "outputs": [],
   "source": [
    "Ecuador"
   ]
  },
  {
   "cell_type": "code",
   "execution_count": null,
   "metadata": {},
   "outputs": [],
   "source": [
    "#Ecuador_sex.to_excel('Results/data_description/ecuador_descrip_cognition_by_sex.xlsx')\n",
    "#Ecuador.to_excel('Results/data_description/ecuador_descrip_cognition_global.xlsx')"
   ]
  },
  {
   "cell_type": "markdown",
   "metadata": {},
   "source": [
    "#### LMIC"
   ]
  },
  {
   "cell_type": "code",
   "execution_count": null,
   "metadata": {},
   "outputs": [],
   "source": [
    "lmic = pd.concat([X_colombia_n_IMC_ACV[cols], X_ecuador_n_IMC_ACV[cols]], axis=0)"
   ]
  },
  {
   "cell_type": "code",
   "execution_count": null,
   "metadata": {},
   "outputs": [],
   "source": [
    "cols = ['Sex','Age', 'Education', 'Barthel']\n",
    "\n",
    "agg_dict = {}\n",
    "for i in cols:\n",
    "    if i == 'Sex':\n",
    "        agg_dict[i]=['count']\n",
    "    else:\n",
    "        agg_dict[i]=['mean', 'std']\n",
    "\n",
    "lmic_sex = lmic.groupby('Sex').agg(agg_dict)\n",
    "lmic_sex = np.round(lmic_sex, 2)"
   ]
  },
  {
   "cell_type": "code",
   "execution_count": null,
   "metadata": {},
   "outputs": [],
   "source": [
    "lmic_sex"
   ]
  },
  {
   "cell_type": "code",
   "execution_count": null,
   "metadata": {},
   "outputs": [],
   "source": [
    "lmic_all = pd.DataFrame(np.round(lmic[cols[1:]].mean(),2), columns=['mean'])\n",
    "lmic_all['std'] = (np.round(lmic[cols[1:]].std(),2))"
   ]
  },
  {
   "cell_type": "code",
   "execution_count": null,
   "metadata": {},
   "outputs": [],
   "source": [
    "lmic_all"
   ]
  },
  {
   "cell_type": "code",
   "execution_count": null,
   "metadata": {},
   "outputs": [],
   "source": [
    "#lmic_sex.to_excel('Results/data_description/lmic_descrip_cognition_by_sex.xlsx')\n",
    "#lmic_all.to_excel('Results/data_description/lmic_descrip_cognition_global.xlsx')"
   ]
  },
  {
   "cell_type": "code",
   "execution_count": null,
   "metadata": {},
   "outputs": [],
   "source": []
  },
  {
   "cell_type": "markdown",
   "metadata": {},
   "source": [
    "### Long Data"
   ]
  },
  {
   "cell_type": "code",
   "execution_count": null,
   "metadata": {},
   "outputs": [],
   "source": [
    "sabe_chile = pd.read_excel('../Data/cross/SABE_chile.xlsx') # to use it for columns order\n",
    "sabe_chile = sabe_chile.iloc[:,1::]\n",
    "\n",
    "sabe_costarica = pd.read_excel('../Data/long/SABE_costarica_long.xlsx')\n",
    "sabe_costarica = sabe_costarica.iloc[:,1::]\n",
    "\n",
    "\n",
    "sabe_china_2011_2014 = pd.read_excel('../Data/long/SABE_china_2011_2014.xlsx')\n",
    "sabe_china_2011_2014 = sabe_china_2011_2014.iloc[:,1::]"
   ]
  },
  {
   "cell_type": "code",
   "execution_count": null,
   "metadata": {},
   "outputs": [],
   "source": [
    "sabe_china_2011_2014['edu_level'] = 0\n",
    "sabe_china_2011_2014.loc[(sabe_china_2011_2014['Education']==88) | (sabe_china_2011_2014['Education']==99), 'edu_level'] = 1\n",
    "sabe_china_2011_2014.loc[(sabe_china_2011_2014['Education']<=6), 'edu_level'] = 1\n",
    "sabe_china_2011_2014.loc[(sabe_china_2011_2014['Education']>=7) & (sabe_china_2011_2014['Education']<=12), 'edu_level'] = 2\n",
    "sabe_china_2011_2014.loc[(sabe_china_2011_2014['Education']>12), 'edu_level'] = 3\n",
    "\n",
    "sabe_china_2011_2014 = sabe_china_2011_2014.drop('Education', axis=1)\n",
    "\n",
    "sabe_china_2011_2014 = sabe_china_2011_2014.rename(columns={'edu_level': 'Education'})"
   ]
  },
  {
   "cell_type": "code",
   "execution_count": null,
   "metadata": {},
   "outputs": [],
   "source": [
    "order_col = list(sabe_chile.columns)\n",
    "del sabe_chile\n",
    "order_col\n",
    "\n",
    "order_col_long = ['Age', 'Sex', 'Diabetes', 'Education', 'Hypertension', 'Heart Disease', 'Mental Problems', 'Physical activity', 'Alcohol consumption',\n",
    "       'Social activity', 'Smoking status', 'Income', 'Barthel_diff']\n",
    "order_col_2011 = ['Age', 'Sex', 'Diabetes', 'Education', 'Hypertension', 'Heart Disease', 'Mental Problems', 'Physical activity', 'Alcohol consumption',\n",
    "       'Social activity', 'Smoking status', 'Income', 'Barthel_2011', 'Barthel_diff']\n",
    "order_col_2014 = ['Age', 'Sex', 'Diabetes', 'Education', 'Hypertension', 'Heart Disease', 'Mental Problems', 'Physical activity', 'Alcohol consumption',\n",
    "       'Social activity', 'Smoking status', 'Income', 'Barthel_2014', 'Barthel_diff']"
   ]
  },
  {
   "cell_type": "code",
   "execution_count": null,
   "metadata": {},
   "outputs": [],
   "source": [
    "X_costarica_01 = sabe_costarica.copy()"
   ]
  },
  {
   "cell_type": "code",
   "execution_count": null,
   "metadata": {},
   "outputs": [],
   "source": [
    "list_drop = ['FD_none_Edad_a01b', 'FD_none_Sexo_c18', 'FM_CardioMetab_Diabetes_c05', 'FS_Educ_yeduca', \n",
    "             'FS_Aislamiento_ViveSolo_g2',\n",
    "                'FM_CardioMetab_Hiperten_c04', 'FM_CardioMetab_IAM_c08',\n",
    "                 'FM_EstiloVida_Alcohol_c23', 'FM_EstiloVida_ActividadFis_c25a', 'FM_EstiloVida_Fuma_c24', \n",
    "                 'FM_EstiloVida_Caida12Mes_c11_med','FM_SaludMental_ProbNervDiagnost_c20', 'MMSE_diff', 'Barthel_diff']\n",
    "\n",
    "\n",
    "list_drop.append('Barthel_w2')\n",
    "list_drop.append('Barthel')\n",
    "X_costarica_01 = X_costarica_01[list_drop]"
   ]
  },
  {
   "cell_type": "code",
   "execution_count": null,
   "metadata": {},
   "outputs": [],
   "source": [
    "X_costarica_01_common_subjects = X_costarica_01.drop(['MMSE_diff' ], axis=1)\n",
    "X_costarica_01_common_subjects.drop(X_costarica_01_common_subjects[X_costarica_01_common_subjects['Barthel_diff'] <0].index, inplace=True)\n",
    "X_costarica_01_common_subjects = X_costarica_01_common_subjects.drop(['Barthel_diff' ], axis=1)\n",
    "X_costarica_01_common_subjects.dropna(inplace=True)\n",
    "\n",
    "\n",
    "print(X_costarica_01_common_subjects.shape,)"
   ]
  },
  {
   "cell_type": "code",
   "execution_count": null,
   "metadata": {},
   "outputs": [],
   "source": [
    "X_costarica_w1 = X_costarica_01_common_subjects.drop(['Barthel_w2' ], axis=1)\n",
    "X_costarica_w2 = X_costarica_01_common_subjects.drop(['Barthel' ], axis=1)"
   ]
  },
  {
   "cell_type": "code",
   "execution_count": null,
   "metadata": {},
   "outputs": [],
   "source": [
    "print('w1:', X_costarica_w1.shape[0], '\\w2:', X_costarica_w2.shape[0])\n",
    "print('w1:', X_costarica_01.shape[0] - X_costarica_w1.shape[0], \n",
    "      '\\tw2:', X_costarica_01_common_subjects.shape[0] - X_costarica_w2.shape[0])"
   ]
  },
  {
   "cell_type": "code",
   "execution_count": null,
   "metadata": {},
   "outputs": [],
   "source": [
    "sabe_china_2011_2014_ = sabe_china_2011_2014[order_col_long]\n",
    "sabe_china_2011_ = sabe_china_2011_2014[order_col_2011]\n",
    "sabe_china_2014_ = sabe_china_2011_2014[order_col_2014]\n",
    "\n",
    "sabe_china_2011_ = sabe_china_2011_.rename(columns={'Barthel_2011': 'Barthel'})\n",
    "sabe_china_2014_ = sabe_china_2014_.rename(columns={'Barthel_2014': 'Barthel'})"
   ]
  },
  {
   "cell_type": "code",
   "execution_count": null,
   "metadata": {},
   "outputs": [],
   "source": [
    "new_name = ['Age', 'Sex', 'Diabetes', 'Education', 'Hypertension', 'Heart Disease', 'Mental Problems', 'Physical activity', 'Alcohol consumption',\n",
    "       'Social activity', 'Smoking status', 'Income', 'Barthel', 'Barthel_diff']"
   ]
  },
  {
   "cell_type": "code",
   "execution_count": null,
   "metadata": {},
   "outputs": [],
   "source": [
    "sabe_china_2011_.columns =  new_name\n",
    "sabe_china_2014_.columns =  new_name"
   ]
  },
  {
   "cell_type": "code",
   "execution_count": null,
   "metadata": {},
   "outputs": [],
   "source": [
    "sabe_china_2011_['Barthel_diff'] = np.where(sabe_china_2011_['Barthel_diff'] < 0, np.nan, sabe_china_2011_['Barthel_diff'])\n",
    "sabe_china_2011_.dropna(inplace=True)\n",
    "\n",
    "sabe_china_2014_['Barthel_diff'] = np.where(sabe_china_2014_['Barthel_diff'] < 0, np.nan, sabe_china_2014_['Barthel_diff'])\n",
    "sabe_china_2014_.dropna(inplace=True)\n",
    "\n",
    "sabe_china_2011_ = sabe_china_2011_.drop(['Barthel_diff'], axis = 1)\n",
    "sabe_china_2014_ = sabe_china_2014_.drop(['Barthel_diff'], axis = 1)\n",
    "\n",
    "\n",
    "print(sabe_china_2011_.shape, sabe_china_2014_.shape)"
   ]
  },
  {
   "cell_type": "code",
   "execution_count": null,
   "metadata": {},
   "outputs": [],
   "source": [
    "new_name = []\n",
    "\n",
    "for i in range(len(X_costarica_w1.columns)):\n",
    "    if(X_costarica_w1.columns[i] == 'FM_EstiloVida_Caida12Mes_c11_med'):\n",
    "        label = 'FM_EstiloVida_Caida12Mes_c11'\n",
    "    else:\n",
    "        label = X_costarica_w1.columns[i]\n",
    "    \n",
    "    index_ = list(X_cat.oldname).index(label)\n",
    "    new_name.append(list(X_cat.newname)[index_])"
   ]
  },
  {
   "cell_type": "code",
   "execution_count": null,
   "metadata": {
    "scrolled": true
   },
   "outputs": [],
   "source": [
    "# Sanity Check\n",
    "for i in range(len(X_costarica_w1.columns)):\n",
    "    print('', X_costarica_w1.columns[i], '\\n', X_costarica_w2.columns[i])\n",
    "    print('-------------------------------------------')"
   ]
  },
  {
   "cell_type": "code",
   "execution_count": null,
   "metadata": {},
   "outputs": [],
   "source": [
    "X_costarica_w1.columns =  new_name\n",
    "X_costarica_w2.columns =  new_name"
   ]
  },
  {
   "cell_type": "code",
   "execution_count": null,
   "metadata": {
    "scrolled": true
   },
   "outputs": [],
   "source": [
    "# Sanity Check\n",
    "for i in range(len(X_costarica_w1.columns)):\n",
    "    print('', X_costarica_w1.columns[i], '\\n', X_costarica_w2.columns[i])\n",
    "    print('-------------------------------------------')"
   ]
  },
  {
   "cell_type": "markdown",
   "metadata": {},
   "source": [
    "## Costa Rica"
   ]
  },
  {
   "cell_type": "code",
   "execution_count": null,
   "metadata": {},
   "outputs": [],
   "source": [
    "cols = ['Sex','Age', 'Education', 'Barthel']\n",
    "\n",
    "agg_dict = {}\n",
    "for i in cols:\n",
    "    if i == 'Sex':\n",
    "        agg_dict[i]=['count']\n",
    "    else:\n",
    "        agg_dict[i]=['mean', 'std']\n",
    "\n",
    "costarica_sex = X_costarica_w1.groupby('Sex').agg(agg_dict)\n",
    "costarica_sex = np.round(costarica_sex, 2)"
   ]
  },
  {
   "cell_type": "code",
   "execution_count": null,
   "metadata": {},
   "outputs": [],
   "source": [
    "costarica_sex"
   ]
  },
  {
   "cell_type": "code",
   "execution_count": null,
   "metadata": {},
   "outputs": [],
   "source": [
    "costarica = pd.DataFrame(np.round(X_costarica_w1[cols[1:]].mean(),2), columns=['mean'])\n",
    "costarica['std'] = (np.round(X_costarica_w1[cols[1:]].std(),2))"
   ]
  },
  {
   "cell_type": "code",
   "execution_count": null,
   "metadata": {},
   "outputs": [],
   "source": [
    "costarica"
   ]
  },
  {
   "cell_type": "code",
   "execution_count": null,
   "metadata": {},
   "outputs": [],
   "source": [
    "#costarica_sex.to_excel('Results/data_description/costarica_descrip_cognition_by_sex.xlsx')\n",
    "#costarica.to_excel('Results/data_description/costarica_descrip_cognition_global.xlsx')"
   ]
  },
  {
   "cell_type": "markdown",
   "metadata": {},
   "source": [
    "## China"
   ]
  },
  {
   "cell_type": "code",
   "execution_count": null,
   "metadata": {},
   "outputs": [],
   "source": [
    "cols = ['Sex','Age', 'Education', 'Barthel']\n",
    "\n",
    "agg_dict = {}\n",
    "for i in cols:\n",
    "    if i == 'Sex':\n",
    "        agg_dict[i]=['count']\n",
    "    else:\n",
    "        agg_dict[i]=['mean', 'std']\n",
    "\n",
    "china_sex = sabe_china_2011_.groupby('Sex').agg(agg_dict)\n",
    "china_sex = np.round(china_sex, 2)"
   ]
  },
  {
   "cell_type": "code",
   "execution_count": null,
   "metadata": {},
   "outputs": [],
   "source": [
    "china_sex"
   ]
  },
  {
   "cell_type": "code",
   "execution_count": null,
   "metadata": {},
   "outputs": [],
   "source": [
    "china = pd.DataFrame(np.round(sabe_china_2011_[cols[1:]].mean(),2), columns=['mean'])\n",
    "china['std'] = (np.round(sabe_china_2011_[cols[1:]].std(),2))"
   ]
  },
  {
   "cell_type": "code",
   "execution_count": null,
   "metadata": {},
   "outputs": [],
   "source": [
    "china"
   ]
  },
  {
   "cell_type": "code",
   "execution_count": null,
   "metadata": {},
   "outputs": [],
   "source": [
    "#china_sex.to_excel('Results/data_description/china_descrip_cognition_by_sex.xlsx')\n",
    "#china.to_excel('Results/data_description/china_descrip_cognition_global.xlsx')"
   ]
  },
  {
   "cell_type": "code",
   "execution_count": null,
   "metadata": {},
   "outputs": [],
   "source": []
  }
 ],
 "metadata": {
  "hide_input": false,
  "kernelspec": {
   "display_name": "Python 3 (ipykernel)",
   "language": "python",
   "name": "python3"
  },
  "language_info": {
   "codemirror_mode": {
    "name": "ipython",
    "version": 3
   },
   "file_extension": ".py",
   "mimetype": "text/x-python",
   "name": "python",
   "nbconvert_exporter": "python",
   "pygments_lexer": "ipython3",
   "version": "3.8.16"
  },
  "toc": {
   "base_numbering": 1,
   "nav_menu": {},
   "number_sections": false,
   "sideBar": true,
   "skip_h1_title": false,
   "title_cell": "Table of Contents",
   "title_sidebar": "Contents",
   "toc_cell": false,
   "toc_position": {
    "height": "calc(100% - 180px)",
    "left": "10px",
    "top": "150px",
    "width": "345px"
   },
   "toc_section_display": true,
   "toc_window_display": true
  }
 },
 "nbformat": 4,
 "nbformat_minor": 4
}
